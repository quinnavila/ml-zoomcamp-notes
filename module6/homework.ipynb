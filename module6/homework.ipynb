{
 "cells": [
  {
   "cell_type": "markdown",
   "metadata": {},
   "source": [
    "# Homework 6"
   ]
  },
  {
   "cell_type": "code",
   "execution_count": 1,
   "metadata": {},
   "outputs": [
    {
     "name": "stdout",
     "output_type": "stream",
     "text": [
      "--2023-10-18 13:21:26--  https://raw.githubusercontent.com/alexeygrigorev/datasets/master/housing.csv\n",
      "Resolving raw.githubusercontent.com (raw.githubusercontent.com)... 185.199.111.133, 185.199.110.133, 185.199.108.133, ...\n",
      "Connecting to raw.githubusercontent.com (raw.githubusercontent.com)|185.199.111.133|:443... connected.\n",
      "HTTP request sent, awaiting response... 200 OK\n",
      "Length: 1423529 (1.4M) [text/plain]\n",
      "Saving to: ‘housing.csv’\n",
      "\n",
      "housing.csv         100%[===================>]   1.36M  --.-KB/s    in 0.1s    \n",
      "\n",
      "2023-10-18 13:21:27 (9.21 MB/s) - ‘housing.csv’ saved [1423529/1423529]\n",
      "\n"
     ]
    }
   ],
   "source": [
    "!wget https://raw.githubusercontent.com/alexeygrigorev/datasets/master/housing.csv"
   ]
  },
  {
   "cell_type": "code",
   "execution_count": 63,
   "metadata": {},
   "outputs": [],
   "source": [
    "import pandas as pd\n",
    "import numpy as np\n",
    "import matplotlib.pyplot as plt\n",
    "import seaborn as sns\n",
    "\n",
    "from sklearn.feature_extraction import DictVectorizer\n",
    "from sklearn.model_selection import train_test_split\n",
    "from sklearn.tree import DecisionTreeRegressor, export_text\n",
    "from sklearn.metrics import mean_squared_error\n",
    "from sklearn.ensemble import RandomForestRegressor\n",
    "import xgboost as xgb\n",
    "\n",
    "%matplotlib inline"
   ]
  },
  {
   "cell_type": "code",
   "execution_count": 3,
   "metadata": {},
   "outputs": [],
   "source": [
    "df = pd.read_csv('housing.csv')"
   ]
  },
  {
   "cell_type": "code",
   "execution_count": 4,
   "metadata": {},
   "outputs": [
    {
     "data": {
      "text/html": [
       "<div>\n",
       "<style scoped>\n",
       "    .dataframe tbody tr th:only-of-type {\n",
       "        vertical-align: middle;\n",
       "    }\n",
       "\n",
       "    .dataframe tbody tr th {\n",
       "        vertical-align: top;\n",
       "    }\n",
       "\n",
       "    .dataframe thead th {\n",
       "        text-align: right;\n",
       "    }\n",
       "</style>\n",
       "<table border=\"1\" class=\"dataframe\">\n",
       "  <thead>\n",
       "    <tr style=\"text-align: right;\">\n",
       "      <th></th>\n",
       "      <th>longitude</th>\n",
       "      <th>latitude</th>\n",
       "      <th>housing_median_age</th>\n",
       "      <th>total_rooms</th>\n",
       "      <th>total_bedrooms</th>\n",
       "      <th>population</th>\n",
       "      <th>households</th>\n",
       "      <th>median_income</th>\n",
       "      <th>median_house_value</th>\n",
       "    </tr>\n",
       "  </thead>\n",
       "  <tbody>\n",
       "    <tr>\n",
       "      <th>count</th>\n",
       "      <td>20640.000000</td>\n",
       "      <td>20640.000000</td>\n",
       "      <td>20640.000000</td>\n",
       "      <td>20640.000000</td>\n",
       "      <td>20433.000000</td>\n",
       "      <td>20640.000000</td>\n",
       "      <td>20640.000000</td>\n",
       "      <td>20640.000000</td>\n",
       "      <td>20640.000000</td>\n",
       "    </tr>\n",
       "    <tr>\n",
       "      <th>mean</th>\n",
       "      <td>-119.569704</td>\n",
       "      <td>35.631861</td>\n",
       "      <td>28.639486</td>\n",
       "      <td>2635.763081</td>\n",
       "      <td>537.870553</td>\n",
       "      <td>1425.476744</td>\n",
       "      <td>499.539680</td>\n",
       "      <td>3.870671</td>\n",
       "      <td>206855.816909</td>\n",
       "    </tr>\n",
       "    <tr>\n",
       "      <th>std</th>\n",
       "      <td>2.003532</td>\n",
       "      <td>2.135952</td>\n",
       "      <td>12.585558</td>\n",
       "      <td>2181.615252</td>\n",
       "      <td>421.385070</td>\n",
       "      <td>1132.462122</td>\n",
       "      <td>382.329753</td>\n",
       "      <td>1.899822</td>\n",
       "      <td>115395.615874</td>\n",
       "    </tr>\n",
       "    <tr>\n",
       "      <th>min</th>\n",
       "      <td>-124.350000</td>\n",
       "      <td>32.540000</td>\n",
       "      <td>1.000000</td>\n",
       "      <td>2.000000</td>\n",
       "      <td>1.000000</td>\n",
       "      <td>3.000000</td>\n",
       "      <td>1.000000</td>\n",
       "      <td>0.499900</td>\n",
       "      <td>14999.000000</td>\n",
       "    </tr>\n",
       "    <tr>\n",
       "      <th>25%</th>\n",
       "      <td>-121.800000</td>\n",
       "      <td>33.930000</td>\n",
       "      <td>18.000000</td>\n",
       "      <td>1447.750000</td>\n",
       "      <td>296.000000</td>\n",
       "      <td>787.000000</td>\n",
       "      <td>280.000000</td>\n",
       "      <td>2.563400</td>\n",
       "      <td>119600.000000</td>\n",
       "    </tr>\n",
       "    <tr>\n",
       "      <th>50%</th>\n",
       "      <td>-118.490000</td>\n",
       "      <td>34.260000</td>\n",
       "      <td>29.000000</td>\n",
       "      <td>2127.000000</td>\n",
       "      <td>435.000000</td>\n",
       "      <td>1166.000000</td>\n",
       "      <td>409.000000</td>\n",
       "      <td>3.534800</td>\n",
       "      <td>179700.000000</td>\n",
       "    </tr>\n",
       "    <tr>\n",
       "      <th>75%</th>\n",
       "      <td>-118.010000</td>\n",
       "      <td>37.710000</td>\n",
       "      <td>37.000000</td>\n",
       "      <td>3148.000000</td>\n",
       "      <td>647.000000</td>\n",
       "      <td>1725.000000</td>\n",
       "      <td>605.000000</td>\n",
       "      <td>4.743250</td>\n",
       "      <td>264725.000000</td>\n",
       "    </tr>\n",
       "    <tr>\n",
       "      <th>max</th>\n",
       "      <td>-114.310000</td>\n",
       "      <td>41.950000</td>\n",
       "      <td>52.000000</td>\n",
       "      <td>39320.000000</td>\n",
       "      <td>6445.000000</td>\n",
       "      <td>35682.000000</td>\n",
       "      <td>6082.000000</td>\n",
       "      <td>15.000100</td>\n",
       "      <td>500001.000000</td>\n",
       "    </tr>\n",
       "  </tbody>\n",
       "</table>\n",
       "</div>"
      ],
      "text/plain": [
       "          longitude      latitude  housing_median_age   total_rooms  \\\n",
       "count  20640.000000  20640.000000        20640.000000  20640.000000   \n",
       "mean    -119.569704     35.631861           28.639486   2635.763081   \n",
       "std        2.003532      2.135952           12.585558   2181.615252   \n",
       "min     -124.350000     32.540000            1.000000      2.000000   \n",
       "25%     -121.800000     33.930000           18.000000   1447.750000   \n",
       "50%     -118.490000     34.260000           29.000000   2127.000000   \n",
       "75%     -118.010000     37.710000           37.000000   3148.000000   \n",
       "max     -114.310000     41.950000           52.000000  39320.000000   \n",
       "\n",
       "       total_bedrooms    population    households  median_income  \\\n",
       "count    20433.000000  20640.000000  20640.000000   20640.000000   \n",
       "mean       537.870553   1425.476744    499.539680       3.870671   \n",
       "std        421.385070   1132.462122    382.329753       1.899822   \n",
       "min          1.000000      3.000000      1.000000       0.499900   \n",
       "25%        296.000000    787.000000    280.000000       2.563400   \n",
       "50%        435.000000   1166.000000    409.000000       3.534800   \n",
       "75%        647.000000   1725.000000    605.000000       4.743250   \n",
       "max       6445.000000  35682.000000   6082.000000      15.000100   \n",
       "\n",
       "       median_house_value  \n",
       "count        20640.000000  \n",
       "mean        206855.816909  \n",
       "std         115395.615874  \n",
       "min          14999.000000  \n",
       "25%         119600.000000  \n",
       "50%         179700.000000  \n",
       "75%         264725.000000  \n",
       "max         500001.000000  "
      ]
     },
     "execution_count": 4,
     "metadata": {},
     "output_type": "execute_result"
    }
   ],
   "source": [
    "df.describe()"
   ]
  },
  {
   "cell_type": "code",
   "execution_count": 5,
   "metadata": {},
   "outputs": [
    {
     "name": "stdout",
     "output_type": "stream",
     "text": [
      "<class 'pandas.core.frame.DataFrame'>\n",
      "RangeIndex: 20640 entries, 0 to 20639\n",
      "Data columns (total 10 columns):\n",
      " #   Column              Non-Null Count  Dtype  \n",
      "---  ------              --------------  -----  \n",
      " 0   longitude           20640 non-null  float64\n",
      " 1   latitude            20640 non-null  float64\n",
      " 2   housing_median_age  20640 non-null  float64\n",
      " 3   total_rooms         20640 non-null  float64\n",
      " 4   total_bedrooms      20433 non-null  float64\n",
      " 5   population          20640 non-null  float64\n",
      " 6   households          20640 non-null  float64\n",
      " 7   median_income       20640 non-null  float64\n",
      " 8   median_house_value  20640 non-null  float64\n",
      " 9   ocean_proximity     20640 non-null  object \n",
      "dtypes: float64(9), object(1)\n",
      "memory usage: 1.6+ MB\n"
     ]
    }
   ],
   "source": [
    "df.info()"
   ]
  },
  {
   "cell_type": "code",
   "execution_count": 6,
   "metadata": {},
   "outputs": [
    {
     "data": {
      "text/plain": [
       "array(['NEAR BAY', '<1H OCEAN', 'INLAND', 'NEAR OCEAN', 'ISLAND'],\n",
       "      dtype=object)"
      ]
     },
     "execution_count": 6,
     "metadata": {},
     "output_type": "execute_result"
    }
   ],
   "source": [
    "df[\"ocean_proximity\"].unique()"
   ]
  },
  {
   "cell_type": "code",
   "execution_count": 7,
   "metadata": {},
   "outputs": [],
   "source": [
    "df_prep = df[(df[\"ocean_proximity\"] == '<1H OCEAN') | (df[\"ocean_proximity\"] == 'INLAND')]"
   ]
  },
  {
   "cell_type": "code",
   "execution_count": 8,
   "metadata": {},
   "outputs": [
    {
     "data": {
      "text/plain": [
       "longitude               0\n",
       "latitude                0\n",
       "housing_median_age      0\n",
       "total_rooms             0\n",
       "total_bedrooms        157\n",
       "population              0\n",
       "households              0\n",
       "median_income           0\n",
       "median_house_value      0\n",
       "ocean_proximity         0\n",
       "dtype: int64"
      ]
     },
     "execution_count": 8,
     "metadata": {},
     "output_type": "execute_result"
    }
   ],
   "source": [
    "df_prep.isnull().sum()"
   ]
  },
  {
   "cell_type": "code",
   "execution_count": 9,
   "metadata": {},
   "outputs": [],
   "source": [
    "df_prep = df_prep.fillna(0)"
   ]
  },
  {
   "cell_type": "code",
   "execution_count": 10,
   "metadata": {},
   "outputs": [
    {
     "data": {
      "text/plain": [
       "longitude             0\n",
       "latitude              0\n",
       "housing_median_age    0\n",
       "total_rooms           0\n",
       "total_bedrooms        0\n",
       "population            0\n",
       "households            0\n",
       "median_income         0\n",
       "median_house_value    0\n",
       "ocean_proximity       0\n",
       "dtype: int64"
      ]
     },
     "execution_count": 10,
     "metadata": {},
     "output_type": "execute_result"
    }
   ],
   "source": [
    "df_prep.isnull().sum()"
   ]
  },
  {
   "cell_type": "code",
   "execution_count": 16,
   "metadata": {},
   "outputs": [],
   "source": [
    "df_full_train, df_test = train_test_split(df_prep, test_size=0.2, random_state=1)\n",
    "df_train, df_val = train_test_split(df_full_train, test_size=0.25, random_state=1)"
   ]
  },
  {
   "cell_type": "code",
   "execution_count": 17,
   "metadata": {},
   "outputs": [],
   "source": [
    "y_train = np.log1p(df_train.median_house_value.values)\n",
    "y_val = np.log1p(df_val.median_house_value.values)\n",
    "y_test = np.log1p(df_test.median_house_value.values)"
   ]
  },
  {
   "cell_type": "code",
   "execution_count": 18,
   "metadata": {},
   "outputs": [],
   "source": [
    "del df_train['median_house_value']\n",
    "del df_val['median_house_value']\n",
    "del df_test['median_house_value']"
   ]
  },
  {
   "cell_type": "code",
   "execution_count": 19,
   "metadata": {},
   "outputs": [],
   "source": [
    "dv = DictVectorizer(sparse=False)\n",
    "\n",
    "train_dict = df_train.to_dict(orient='records')\n",
    "X_train = dv.fit_transform(train_dict)\n",
    "\n",
    "val_dict = df_val.to_dict(orient='records')\n",
    "X_val = dv.transform(val_dict)"
   ]
  },
  {
   "cell_type": "markdown",
   "metadata": {},
   "source": [
    "# Question 1"
   ]
  },
  {
   "cell_type": "code",
   "execution_count": 25,
   "metadata": {},
   "outputs": [
    {
     "name": "stdout",
     "output_type": "stream",
     "text": [
      "0.45168599736547216\n"
     ]
    }
   ],
   "source": [
    "regressor = DecisionTreeRegressor(max_depth=1)\n",
    "dt_model = regressor.fit(X_train, y_train)\n",
    "y_pred = dt_model.predict(X_val)\n",
    "rmse = np.sqrt(mean_squared_error(y_val, y_pred))\n",
    "print(rmse)"
   ]
  },
  {
   "cell_type": "code",
   "execution_count": 43,
   "metadata": {},
   "outputs": [
    {
     "name": "stdout",
     "output_type": "stream",
     "text": [
      "[ 5 -2 -2]\n",
      "The splitting feature at the root node is feature index ocean_proximity=<1H OCEAN.\n"
     ]
    },
    {
     "data": {
      "image/png": "[encoded data removed]",
      "text/plain": [
       "<Figure size 640x480 with 1 Axes>"
      ]
     },
     "metadata": {},
     "output_type": "display_data"
    }
   ],
   "source": [
    "# Get the tree structure\n",
    "tree = dt_model.tree_\n",
    "print(tree.feature)\n",
    "from sklearn.tree import plot_tree\n",
    "plot_tree(dt_model, feature_names=list(dv.get_feature_names_out()))\n",
    "# Find the splitting feature at the root node\n",
    "root_splitting_feature = tree.feature[0]\n",
    "\n",
    "# Print the index of the splitting feature\n",
    "print(f\"The splitting feature at the root node is feature index {list(dv.get_feature_names_out())[root_splitting_feature]}.\")"
   ]
  },
  {
   "cell_type": "code",
   "execution_count": 26,
   "metadata": {},
   "outputs": [
    {
     "name": "stdout",
     "output_type": "stream",
     "text": [
      "|--- ocean_proximity=<1H OCEAN <= 0.50\n",
      "|   |--- value: [11.61]\n",
      "|--- ocean_proximity=<1H OCEAN >  0.50\n",
      "|   |--- value: [12.30]\n",
      "\n"
     ]
    }
   ],
   "source": [
    "print(export_text(dt_model, feature_names=list(dv.get_feature_names_out())))"
   ]
  },
  {
   "cell_type": "markdown",
   "metadata": {},
   "source": [
    "Looks like ocean_proximity"
   ]
  },
  {
   "cell_type": "markdown",
   "metadata": {},
   "source": [
    "# Question 2"
   ]
  },
  {
   "cell_type": "code",
   "execution_count": 45,
   "metadata": {},
   "outputs": [
    {
     "name": "stdout",
     "output_type": "stream",
     "text": [
      "0.245\n"
     ]
    }
   ],
   "source": [
    "rf_model = RandomForestRegressor(n_estimators=10, random_state=1, n_jobs=-1)\n",
    "rf_model.fit(X_train, y_train)\n",
    "y_pred = rf_model.predict(X_val)\n",
    "rmse = round(np.sqrt(mean_squared_error(y_val, y_pred)), 3)\n",
    "print(rmse)"
   ]
  },
  {
   "cell_type": "markdown",
   "metadata": {},
   "source": [
    ".245"
   ]
  },
  {
   "cell_type": "markdown",
   "metadata": {},
   "source": [
    "# Question 3"
   ]
  },
  {
   "cell_type": "code",
   "execution_count": 46,
   "metadata": {},
   "outputs": [],
   "source": [
    "def parameter_test(n_estimator):\n",
    "    rf_model = RandomForestRegressor(n_estimators=n_estimator, random_state=1, n_jobs=-1)\n",
    "    rf_model.fit(X_train, y_train)\n",
    "    y_pred = rf_model.predict(X_val)\n",
    "    rmse = np.sqrt(mean_squared_error(y_val, y_pred))\n",
    "    return rmse"
   ]
  },
  {
   "cell_type": "code",
   "execution_count": 47,
   "metadata": {},
   "outputs": [
    {
     "name": "stdout",
     "output_type": "stream",
     "text": [
      "n_estimator: 10 rmse: 0.245\n",
      "n_estimator: 20 rmse: 0.238\n",
      "n_estimator: 30 rmse: 0.236\n",
      "n_estimator: 40 rmse: 0.235\n",
      "n_estimator: 50 rmse: 0.234\n",
      "n_estimator: 60 rmse: 0.234\n",
      "n_estimator: 70 rmse: 0.234\n",
      "n_estimator: 80 rmse: 0.234\n",
      "n_estimator: 90 rmse: 0.234\n",
      "n_estimator: 100 rmse: 0.234\n",
      "n_estimator: 110 rmse: 0.234\n",
      "n_estimator: 120 rmse: 0.234\n",
      "n_estimator: 130 rmse: 0.234\n",
      "n_estimator: 140 rmse: 0.234\n",
      "n_estimator: 150 rmse: 0.234\n",
      "n_estimator: 160 rmse: 0.233\n",
      "n_estimator: 170 rmse: 0.233\n",
      "n_estimator: 180 rmse: 0.234\n",
      "n_estimator: 190 rmse: 0.234\n",
      "n_estimator: 200 rmse: 0.234\n"
     ]
    }
   ],
   "source": [
    "for i in range(10, 201, 10):\n",
    "    print(f\"n_estimator: {i} rmse: {round(parameter_test(i), 3)}\" )"
   ]
  },
  {
   "cell_type": "markdown",
   "metadata": {},
   "source": [
    "After n_estimator: 50 rmse: 0.234 rmse stops improving"
   ]
  },
  {
   "cell_type": "markdown",
   "metadata": {},
   "source": [
    "# Question 4"
   ]
  },
  {
   "cell_type": "code",
   "execution_count": 48,
   "metadata": {},
   "outputs": [],
   "source": [
    "def parameter_depth_test(n_estimator, max_depth):\n",
    "    rf_model = RandomForestRegressor(n_estimators=n_estimator, max_depth=max_depth, random_state=1, n_jobs=-1)\n",
    "    rf_model.fit(X_train, y_train)\n",
    "    y_pred = rf_model.predict(X_val)\n",
    "    rmse = np.sqrt(mean_squared_error(y_val, y_pred))\n",
    "    return rmse"
   ]
  },
  {
   "cell_type": "code",
   "execution_count": 53,
   "metadata": {},
   "outputs": [
    {
     "name": "stdout",
     "output_type": "stream",
     "text": [
      "max_depth: 10 n_estimator: 10 rmse: 0.251\n",
      "max_depth: 10 n_estimator: 20 rmse: 0.247\n",
      "max_depth: 10 n_estimator: 30 rmse: 0.246\n",
      "max_depth: 10 n_estimator: 40 rmse: 0.245\n",
      "max_depth: 10 n_estimator: 160 rmse: 0.244\n",
      "max_depth: 15 n_estimator: 20 rmse: 0.239\n",
      "max_depth: 15 n_estimator: 30 rmse: 0.237\n",
      "max_depth: 15 n_estimator: 40 rmse: 0.236\n",
      "max_depth: 15 n_estimator: 70 rmse: 0.235\n",
      "max_depth: 15 n_estimator: 150 rmse: 0.234\n",
      "max_depth: 20 n_estimator: 150 rmse: 0.233\n",
      "Best rmse: 0.233 Best depth: 20\n"
     ]
    }
   ],
   "source": [
    "best_rmse = float(\"inf\")\n",
    "best_max_depth = float(\"inf\")\n",
    "for max_depth in [10, 15, 20, 25]:\n",
    "    for n_est in range(10, 201, 10):\n",
    "        rmse = round(parameter_depth_test(n_est, max_depth), 3)\n",
    "        if rmse < best_rmse:\n",
    "            best_rmse = rmse\n",
    "            best_max_depth = max_depth\n",
    "            print(f\"max_depth: {max_depth} n_estimator: {n_est} rmse: {rmse}\" )\n",
    "print(f\"Best rmse: {best_rmse} Best depth: {best_max_depth}\")"
   ]
  },
  {
   "cell_type": "markdown",
   "metadata": {},
   "source": [
    "Looks like best rmse .233 at a max_depth of 20"
   ]
  },
  {
   "cell_type": "markdown",
   "metadata": {},
   "source": [
    "# Question 5"
   ]
  },
  {
   "cell_type": "code",
   "execution_count": 55,
   "metadata": {},
   "outputs": [
    {
     "name": "stdout",
     "output_type": "stream",
     "text": [
      "0.245\n"
     ]
    }
   ],
   "source": [
    "rf_model = RandomForestRegressor(n_estimators=10, max_depth=20, random_state=1, n_jobs=-1)\n",
    "rf_model.fit(X_train, y_train)\n",
    "y_pred = rf_model.predict(X_val)\n",
    "rmse = round(np.sqrt(mean_squared_error(y_val, y_pred)), 3)\n",
    "print(rmse)"
   ]
  },
  {
   "cell_type": "code",
   "execution_count": 62,
   "metadata": {},
   "outputs": [
    {
     "name": "stdout",
     "output_type": "stream",
     "text": [
      "Name: median_income Importance: 0.3355070433470429\n",
      "Name: ocean_proximity=<1H OCEAN Importance: 0.21881985433078338\n",
      "Name: ocean_proximity=INLAND Importance: 0.1474595540682817\n",
      "Name: latitude Importance: 0.10271687386164392\n",
      "Name: longitude Importance: 0.08579061141056853\n",
      "Name: housing_median_age Importance: 0.03004269417873657\n",
      "Name: population Importance: 0.02821150531672544\n",
      "Name: total_rooms Importance: 0.02131944133831403\n",
      "Name: total_bedrooms Importance: 0.015227641883313336\n",
      "Name: households Importance: 0.014904780264590167\n"
     ]
    }
   ],
   "source": [
    "feature_importances = zip(rf_model.feature_importances_, list(dv.get_feature_names_out()))\n",
    "for importance, name in sorted(feature_importances, reverse=True):\n",
    "    print(f\"Name: {name} Importance: {importance}\")"
   ]
  },
  {
   "cell_type": "markdown",
   "metadata": {},
   "source": [
    "median income appears to be the most important feature"
   ]
  },
  {
   "cell_type": "markdown",
   "metadata": {},
   "source": [
    "# Question 6"
   ]
  },
  {
   "cell_type": "code",
   "execution_count": 71,
   "metadata": {},
   "outputs": [],
   "source": [
    "features = list(dv.get_feature_names_out())\n",
    "features = [feature.replace('=<', '_').replace('=', '_') for feature in features]"
   ]
  },
  {
   "cell_type": "code",
   "execution_count": 72,
   "metadata": {},
   "outputs": [],
   "source": [
    "# features = list(dv.get_feature_names_out())\n",
    "dtrain = xgb.DMatrix(X_train, label=y_train, feature_names=features)\n",
    "dval = xgb.DMatrix(X_val, label=y_val, feature_names=features)"
   ]
  },
  {
   "cell_type": "code",
   "execution_count": 73,
   "metadata": {},
   "outputs": [],
   "source": [
    "watchlist = [(dtrain, 'train'), (dval, 'val')]"
   ]
  },
  {
   "cell_type": "code",
   "execution_count": 86,
   "metadata": {},
   "outputs": [],
   "source": [
    "xgb_params = {\n",
    "    'eta': 0.3, \n",
    "    'max_depth': 6,\n",
    "    'min_child_weight': 1,\n",
    "    \n",
    "    'objective': 'reg:squarederror',\n",
    "    'nthread': 8,\n",
    "    \n",
    "    'seed': 1,\n",
    "    'verbosity': 1,\n",
    "}"
   ]
  },
  {
   "cell_type": "code",
   "execution_count": 87,
   "metadata": {},
   "outputs": [
    {
     "name": "stdout",
     "output_type": "stream",
     "text": [
      "[0]\ttrain-rmse:8.07362\tval-rmse:8.07348\n",
      "[1]\ttrain-rmse:5.65832\tval-rmse:5.65617\n",
      "[2]\ttrain-rmse:3.96917\tval-rmse:3.96541\n",
      "[3]\ttrain-rmse:2.78836\tval-rmse:2.78530\n",
      "[4]\ttrain-rmse:1.96409\tval-rmse:1.96088\n",
      "[5]\ttrain-rmse:1.38983\tval-rmse:1.38852\n",
      "[6]\ttrain-rmse:0.99273\tval-rmse:0.99253\n",
      "[7]\ttrain-rmse:0.71854\tval-rmse:0.72138\n",
      "[8]\ttrain-rmse:0.53440\tval-rmse:0.54054\n",
      "[9]\ttrain-rmse:0.41016\tval-rmse:0.42108\n",
      "[10]\ttrain-rmse:0.33195\tval-rmse:0.34802\n",
      "[11]\ttrain-rmse:0.28413\tval-rmse:0.30539\n",
      "[12]\ttrain-rmse:0.25487\tval-rmse:0.28044\n",
      "[13]\ttrain-rmse:0.23748\tval-rmse:0.26681\n",
      "[14]\ttrain-rmse:0.22789\tval-rmse:0.25955\n",
      "[15]\ttrain-rmse:0.22197\tval-rmse:0.25614\n",
      "[16]\ttrain-rmse:0.21543\tval-rmse:0.25268\n",
      "[17]\ttrain-rmse:0.21034\tval-rmse:0.24871\n",
      "[18]\ttrain-rmse:0.20688\tval-rmse:0.24786\n",
      "[19]\ttrain-rmse:0.20341\tval-rmse:0.24612\n",
      "[20]\ttrain-rmse:0.20036\tval-rmse:0.24508\n",
      "[21]\ttrain-rmse:0.19827\tval-rmse:0.24376\n",
      "[22]\ttrain-rmse:0.19644\tval-rmse:0.24257\n",
      "[23]\ttrain-rmse:0.19320\tval-rmse:0.24095\n",
      "[24]\ttrain-rmse:0.19203\tval-rmse:0.24066\n",
      "[25]\ttrain-rmse:0.18991\tval-rmse:0.24021\n",
      "[26]\ttrain-rmse:0.18715\tval-rmse:0.23921\n",
      "[27]\ttrain-rmse:0.18592\tval-rmse:0.23917\n",
      "[28]\ttrain-rmse:0.18539\tval-rmse:0.23906\n",
      "[29]\ttrain-rmse:0.18394\tval-rmse:0.23830\n",
      "[30]\ttrain-rmse:0.18204\tval-rmse:0.23833\n",
      "[31]\ttrain-rmse:0.18014\tval-rmse:0.23764\n",
      "[32]\ttrain-rmse:0.17785\tval-rmse:0.23717\n",
      "[33]\ttrain-rmse:0.17441\tval-rmse:0.23620\n",
      "[34]\ttrain-rmse:0.17311\tval-rmse:0.23603\n",
      "[35]\ttrain-rmse:0.17091\tval-rmse:0.23452\n",
      "[36]\ttrain-rmse:0.16973\tval-rmse:0.23439\n",
      "[37]\ttrain-rmse:0.16827\tval-rmse:0.23419\n",
      "[38]\ttrain-rmse:0.16728\tval-rmse:0.23403\n",
      "[39]\ttrain-rmse:0.16621\tval-rmse:0.23389\n",
      "[40]\ttrain-rmse:0.16422\tval-rmse:0.23379\n",
      "[41]\ttrain-rmse:0.16272\tval-rmse:0.23398\n",
      "[42]\ttrain-rmse:0.16186\tval-rmse:0.23384\n",
      "[43]\ttrain-rmse:0.15985\tval-rmse:0.23320\n",
      "[44]\ttrain-rmse:0.15905\tval-rmse:0.23307\n",
      "[45]\ttrain-rmse:0.15756\tval-rmse:0.23302\n",
      "[46]\ttrain-rmse:0.15677\tval-rmse:0.23323\n",
      "[47]\ttrain-rmse:0.15588\tval-rmse:0.23335\n",
      "[48]\ttrain-rmse:0.15467\tval-rmse:0.23302\n",
      "[49]\ttrain-rmse:0.15364\tval-rmse:0.23319\n",
      "[50]\ttrain-rmse:0.15210\tval-rmse:0.23262\n",
      "[51]\ttrain-rmse:0.15110\tval-rmse:0.23268\n",
      "[52]\ttrain-rmse:0.14992\tval-rmse:0.23254\n",
      "[53]\ttrain-rmse:0.14890\tval-rmse:0.23234\n",
      "[54]\ttrain-rmse:0.14729\tval-rmse:0.23212\n",
      "[55]\ttrain-rmse:0.14633\tval-rmse:0.23167\n",
      "[56]\ttrain-rmse:0.14531\tval-rmse:0.23168\n",
      "[57]\ttrain-rmse:0.14476\tval-rmse:0.23183\n",
      "[58]\ttrain-rmse:0.14398\tval-rmse:0.23178\n",
      "[59]\ttrain-rmse:0.14309\tval-rmse:0.23177\n",
      "[60]\ttrain-rmse:0.14218\tval-rmse:0.23160\n",
      "[61]\ttrain-rmse:0.14194\tval-rmse:0.23150\n",
      "[62]\ttrain-rmse:0.14141\tval-rmse:0.23169\n",
      "[63]\ttrain-rmse:0.14087\tval-rmse:0.23180\n",
      "[64]\ttrain-rmse:0.14022\tval-rmse:0.23175\n",
      "[65]\ttrain-rmse:0.13898\tval-rmse:0.23169\n",
      "[66]\ttrain-rmse:0.13823\tval-rmse:0.23179\n",
      "[67]\ttrain-rmse:0.13696\tval-rmse:0.23140\n",
      "[68]\ttrain-rmse:0.13665\tval-rmse:0.23148\n",
      "[69]\ttrain-rmse:0.13565\tval-rmse:0.23115\n",
      "[70]\ttrain-rmse:0.13471\tval-rmse:0.23108\n",
      "[71]\ttrain-rmse:0.13392\tval-rmse:0.23081\n",
      "[72]\ttrain-rmse:0.13290\tval-rmse:0.23044\n",
      "[73]\ttrain-rmse:0.13249\tval-rmse:0.23043\n",
      "[74]\ttrain-rmse:0.13143\tval-rmse:0.23026\n",
      "[75]\ttrain-rmse:0.13072\tval-rmse:0.23036\n",
      "[76]\ttrain-rmse:0.13034\tval-rmse:0.23027\n",
      "[77]\ttrain-rmse:0.12963\tval-rmse:0.23029\n",
      "[78]\ttrain-rmse:0.12914\tval-rmse:0.23029\n",
      "[79]\ttrain-rmse:0.12872\tval-rmse:0.23028\n",
      "[80]\ttrain-rmse:0.12835\tval-rmse:0.23045\n",
      "[81]\ttrain-rmse:0.12754\tval-rmse:0.23025\n",
      "[82]\ttrain-rmse:0.12727\tval-rmse:0.23015\n",
      "[83]\ttrain-rmse:0.12666\tval-rmse:0.23024\n",
      "[84]\ttrain-rmse:0.12630\tval-rmse:0.23028\n",
      "[85]\ttrain-rmse:0.12534\tval-rmse:0.23010\n",
      "[86]\ttrain-rmse:0.12495\tval-rmse:0.23009\n",
      "[87]\ttrain-rmse:0.12455\tval-rmse:0.23004\n",
      "[88]\ttrain-rmse:0.12330\tval-rmse:0.22953\n",
      "[89]\ttrain-rmse:0.12260\tval-rmse:0.22949\n",
      "[90]\ttrain-rmse:0.12174\tval-rmse:0.22957\n",
      "[91]\ttrain-rmse:0.12118\tval-rmse:0.22940\n",
      "[92]\ttrain-rmse:0.12037\tval-rmse:0.22914\n",
      "[93]\ttrain-rmse:0.11983\tval-rmse:0.22921\n",
      "[94]\ttrain-rmse:0.11949\tval-rmse:0.22909\n",
      "[95]\ttrain-rmse:0.11894\tval-rmse:0.22906\n",
      "[96]\ttrain-rmse:0.11840\tval-rmse:0.22906\n",
      "[97]\ttrain-rmse:0.11791\tval-rmse:0.22898\n",
      "[98]\ttrain-rmse:0.11672\tval-rmse:0.22891\n",
      "[99]\ttrain-rmse:0.11656\tval-rmse:0.22897\n"
     ]
    }
   ],
   "source": [
    "\n",
    "xgb_model = xgb.train(xgb_params, dtrain, num_boost_round=100, evals=watchlist)"
   ]
  },
  {
   "cell_type": "code",
   "execution_count": 85,
   "metadata": {},
   "outputs": [
    {
     "name": "stdout",
     "output_type": "stream",
     "text": [
      "Root Mean Squared Error (RMSE): 0.229\n"
     ]
    }
   ],
   "source": [
    "y_pred = xgb_model.predict(dval)\n",
    "\n",
    "rmse = np.sqrt(mean_squared_error(y_val, y_pred))\n",
    "\n",
    "print(f\"Root Mean Squared Error (RMSE): {round(rmse, 3)}\")"
   ]
  },
  {
   "cell_type": "markdown",
   "metadata": {},
   "source": [
    ".3 Root Mean Squared Error (RMSE): 0.229\n",
    "\n",
    ".1 Root Mean Squared Error (RMSE): 0.232"
   ]
  },
  {
   "cell_type": "markdown",
   "metadata": {},
   "source": [
    ".3 appears better"
   ]
  },
  {
   "cell_type": "code",
   "execution_count": null,
   "metadata": {},
   "outputs": [],
   "source": []
  }
 ],
 "metadata": {
  "kernelspec": {
   "display_name": "practice",
   "language": "python",
   "name": "python3"
  },
  "language_info": {
   "codemirror_mode": {
    "name": "ipython",
    "version": 3
   },
   "file_extension": ".py",
   "mimetype": "text/x-python",
   "name": "python",
   "nbconvert_exporter": "python",
   "pygments_lexer": "ipython3",
   "version": "3.11.4"
  }
 },
 "nbformat": 4,
 "nbformat_minor": 2
}
